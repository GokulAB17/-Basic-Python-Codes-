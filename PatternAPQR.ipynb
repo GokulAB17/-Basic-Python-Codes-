{
 "cells": [
  {
   "cell_type": "code",
   "execution_count": 18,
   "metadata": {},
   "outputs": [
    {
     "name": "stdout",
     "output_type": "stream",
     "text": [
      "APQRSTUVWX\n",
      "ABPQRSTUVW\n",
      "ABCPQRSTUV\n",
      "ABCDPQRSTU\n",
      "ABCDEPQRST\n",
      "ABCDEFPQRS\n",
      "ABCDEFGPQR\n",
      "ABCDEFGHPQ\n",
      "ABCDEFGHIP\n",
      "ABCDEFGHIJ\n"
     ]
    }
   ],
   "source": [
    "for i in range(10):\n",
    "    j=65\n",
    "    for j in range(65,66+i):\n",
    "        print(chr(j),end=\"\")\n",
    "    j=80\n",
    "    for j in range(80,89-i):\n",
    "        print(chr(j),end=\"\")\n",
    "    print()"
   ]
  }
 ],
 "metadata": {
  "kernelspec": {
   "display_name": "Python 3",
   "language": "python",
   "name": "python3"
  },
  "language_info": {
   "codemirror_mode": {
    "name": "ipython",
    "version": 3
   },
   "file_extension": ".py",
   "mimetype": "text/x-python",
   "name": "python",
   "nbconvert_exporter": "python",
   "pygments_lexer": "ipython3",
   "version": "3.7.3"
  }
 },
 "nbformat": 4,
 "nbformat_minor": 2
}
