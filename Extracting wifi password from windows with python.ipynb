{
 "cells": [
  {
   "cell_type": "code",
   "execution_count": null,
   "metadata": {},
   "outputs": [],
   "source": [
    "#############FOR EDUCATION PURPOSE ONLY##################"
   ]
  },
  {
   "cell_type": "code",
   "execution_count": 1,
   "metadata": {},
   "outputs": [],
   "source": [
    "import subprocess"
   ]
  },
  {
   "cell_type": "code",
   "execution_count": 2,
   "metadata": {},
   "outputs": [],
   "source": [
    "data= subprocess.check_output([\"netsh\",\"wlan\",\"show\",\"profiles\"]).decode(\"utf-8\").split(\"\\n\")"
   ]
  },
  {
   "cell_type": "code",
   "execution_count": 3,
   "metadata": {
    "scrolled": true
   },
   "outputs": [
    {
     "ename": "SyntaxError",
     "evalue": "invalid syntax (<ipython-input-3-79624e812448>, line 2)",
     "output_type": "error",
     "traceback": [
      "\u001b[1;36m  File \u001b[1;32m\"<ipython-input-3-79624e812448>\"\u001b[1;36m, line \u001b[1;32m2\u001b[0m\n\u001b[1;33m    wifis\u001b[0m\n\u001b[1;37m        ^\u001b[0m\n\u001b[1;31mSyntaxError\u001b[0m\u001b[1;31m:\u001b[0m invalid syntax\n"
     ]
    }
   ],
   "source": [
    "wifis=[line.split(\":\")[1][1:-1] for line in data if \"All User Profile\" in line]\n",
    "wifis\n",
    "#Display all the wifis usernames"
   ]
  },
  {
   "cell_type": "code",
   "execution_count": null,
   "metadata": {},
   "outputs": [],
   "source": [
    "##########UNDERSTAND THE INTERACTION WITH TERMINAL AND EXTRACTION OF DATA FROM TERMINAL#################"
   ]
  },
  {
   "cell_type": "code",
   "execution_count": null,
   "metadata": {},
   "outputs": [],
   "source": [
    "######## Main Program################"
   ]
  },
  {
   "cell_type": "code",
   "execution_count": 4,
   "metadata": {},
   "outputs": [
    {
     "ename": "SyntaxError",
     "evalue": "unexpected EOF while parsing (<ipython-input-4-99c251aaefd3>, line 7)",
     "output_type": "error",
     "traceback": [
      "\u001b[1;36m  File \u001b[1;32m\"<ipython-input-4-99c251aaefd3>\"\u001b[1;36m, line \u001b[1;32m7\u001b[0m\n\u001b[1;33m    print((f'Name: {wifi}, Password: cannot be read!')\u001b[0m\n\u001b[1;37m                                                      ^\u001b[0m\n\u001b[1;31mSyntaxError\u001b[0m\u001b[1;31m:\u001b[0m unexpected EOF while parsing\n"
     ]
    }
   ],
   "source": [
    "for wifi in wifis:\n",
    "    results = subprocess.check_output([\"netsh\",\"wlan\",\"show\",\"profile\",wifi,\"key=clear\"]).decode(\"utf-8\").split(\"\\n\")\n",
    "    results=[line.split(\":\")[1][1:-1] for line in results if \"Key Content\" in line]\n",
    "    try:\n",
    "        print(f'Name: {wifi}, Password: {results[0]}')\n",
    "    except IndexError:\n",
    "        print((f'Name: {wifi}, Password: cannot be read!'))"
   ]
  }
 ],
 "metadata": {
  "_draft": {
   "nbviewer_url": "https://gist.github.com/e7b95f2757506f0182716713d6f044c3"
  },
  "gist": {
   "data": {
    "description": "Extracting wifi password from windows with python.ipynb",
    "public": true
   },
   "id": "e7b95f2757506f0182716713d6f044c3"
  },
  "kernelspec": {
   "display_name": "Python 3",
   "language": "python",
   "name": "python3"
  },
  "language_info": {
   "codemirror_mode": {
    "name": "ipython",
    "version": 3
   },
   "file_extension": ".py",
   "mimetype": "text/x-python",
   "name": "python",
   "nbconvert_exporter": "python",
   "pygments_lexer": "ipython3",
   "version": "3.7.3"
  }
 },
 "nbformat": 4,
 "nbformat_minor": 2
}
