{
  "nbformat": 4,
  "nbformat_minor": 0,
  "metadata": {
    "colab": {
      "name": "PythonExcercise.ipynb",
      "provenance": [],
      "authorship_tag": "ABX9TyMwAiRiVoACEsHx6Sh3liMb"
    },
    "kernelspec": {
      "display_name": "Python 3",
      "name": "python3"
    },
    "language_info": {
      "name": "python"
    }
  },
  "cells": [
    {
      "cell_type": "code",
      "metadata": {
        "colab": {
          "base_uri": "https://localhost:8080/"
        },
        "id": "qAQH8i1w29BS",
        "outputId": "30d83375-eaa6-4f23-9cb5-9c465bb4bec9"
      },
      "source": [
        " #1: Simple Number Triangle Pattern\n",
        " rows = 6\n",
        "\n",
        "for num in range(rows):\n",
        "\n",
        "    for i in range(num):\n",
        "\n",
        "        print(num, end=\" \") # print number\n",
        "\n",
        "    # line after each row to display pattern correctly\n",
        "\n",
        "    print(\" \")\n",
        "\n",
        "  \n",
        "\n"
      ],
      "execution_count": null,
      "outputs": [
        {
          "output_type": "stream",
          "text": [
            " \n",
            "1  \n",
            "2 2  \n",
            "3 3 3  \n",
            "4 4 4 4  \n",
            "5 5 5 5 5  \n"
          ],
          "name": "stdout"
        }
      ]
    },
    {
      "cell_type": "code",
      "metadata": {
        "colab": {
          "base_uri": "https://localhost:8080/"
        },
        "id": "mvV82XOU9vvj",
        "outputId": "dbeb1178-9a35-4a25-f392-f861e3177307"
      },
      "source": [
        "#2: Inverted Pyramid of Numbers\n",
        "rows = 5\n",
        "\n",
        "b = 0\n",
        "\n",
        "for i in range(rows, 0, -1):\n",
        "\n",
        "    b += 1\n",
        "\n",
        "    for j in range(1, i + 1):\n",
        "\n",
        "        print(b, end=\" \")\n",
        "\n",
        "    print(\"\\r\")"
      ],
      "execution_count": null,
      "outputs": [
        {
          "output_type": "stream",
          "text": [
            "1 1 1 1 1 \r\n",
            "2 2 2 2 \r\n",
            "3 3 3 \r\n",
            "4 4 \r\n",
            "5 \r\n"
          ],
          "name": "stdout"
        }
      ]
    },
    {
      "cell_type": "code",
      "metadata": {
        "colab": {
          "base_uri": "https://localhost:8080/"
        },
        "id": "m74cTtuY96MY",
        "outputId": "5de89fe4-36d0-49ad-9375-54231a5ebd4b"
      },
      "source": [
        "#3: Half Pyramid Pattern of Numbers\n",
        "rows = 5\n",
        "\n",
        "for row in range(1, rows+1):\n",
        "\n",
        "    for column in range(1, row + 1):\n",
        "\n",
        "        print(column, end=\" \")\n",
        "\n",
        "    print(\" \")"
      ],
      "execution_count": null,
      "outputs": [
        {
          "output_type": "stream",
          "text": [
            "1  \n",
            "1 2  \n",
            "1 2 3  \n",
            "1 2 3 4  \n",
            "1 2 3 4 5  \n"
          ],
          "name": "stdout"
        }
      ]
    },
    {
      "cell_type": "code",
      "metadata": {
        "colab": {
          "base_uri": "https://localhost:8080/"
        },
        "id": "lOy8xU6W90NY",
        "outputId": "ebcb5767-a719-4be6-bd1c-8a3ea5185cfa"
      },
      "source": [
        "#4: Inverted Pyramid of Descending Numbers\n",
        "rows = 5\n",
        "\n",
        "for i in range(rows, 0, -1):\n",
        "\n",
        "    num = i\n",
        "\n",
        "    for j in range(0, i):\n",
        "\n",
        "        print(num, end=\" \")\n",
        "\n",
        "    print(\"\\r\")"
      ],
      "execution_count": null,
      "outputs": [
        {
          "output_type": "stream",
          "text": [
            "5 5 5 5 5 \r\n",
            "4 4 4 4 \r\n",
            "3 3 3 \r\n",
            "2 2 \r\n",
            "1 \r\n"
          ],
          "name": "stdout"
        }
      ]
    },
    {
      "cell_type": "code",
      "metadata": {
        "colab": {
          "base_uri": "https://localhost:8080/"
        },
        "id": "VmOtPKWm-3Ur",
        "outputId": "c8af4c05-175d-4b37-9f24-36d24bb94fc8"
      },
      "source": [
        "#5: Inverted Pyramid of the Same Digit\n",
        "rows = 5\n",
        "\n",
        "num = rows\n",
        "\n",
        "for i in range(rows, 0, -1):\n",
        "\n",
        "    for j in range(0, i):\n",
        "\n",
        "        print(num, end=\" \")\n",
        "\n",
        "    print(\"\\r\")"
      ],
      "execution_count": null,
      "outputs": [
        {
          "output_type": "stream",
          "text": [
            "5 5 5 5 5 \r\n",
            "5 5 5 5 \r\n",
            "5 5 5 \r\n",
            "5 5 \r\n",
            "5 \r\n"
          ],
          "name": "stdout"
        }
      ]
    },
    {
      "cell_type": "code",
      "metadata": {
        "colab": {
          "base_uri": "https://localhost:8080/"
        },
        "id": "711AoIq7_A-O",
        "outputId": "52cfb677-f515-42e7-91e9-84b98abac67f"
      },
      "source": [
        "#6: Reverse Pyramid of Numbers\n",
        "rows = 6\n",
        "\n",
        "for row in range(1, rows):\n",
        "\n",
        "    for column in range(row, 0, -1):\n",
        "\n",
        "        print(column, end=\" \")\n",
        "\n",
        "    print(\"\")"
      ],
      "execution_count": null,
      "outputs": [
        {
          "output_type": "stream",
          "text": [
            "1 \n",
            "2 1 \n",
            "3 2 1 \n",
            "4 3 2 1 \n",
            "5 4 3 2 1 \n"
          ],
          "name": "stdout"
        }
      ]
    },
    {
      "cell_type": "code",
      "metadata": {
        "colab": {
          "base_uri": "https://localhost:8080/"
        },
        "id": "d0NyLM1Q_Y-u",
        "outputId": "4c8b7afd-9fa4-4c38-a8a3-25d00727464b"
      },
      "source": [
        "#7: Inverted Half Pyramid Number Pattern\n",
        "rows = 5\n",
        "\n",
        "for i in range(rows, 0, -1):\n",
        "\n",
        "    for j in range(0, i + 1):\n",
        "\n",
        "        print(j, end=\" \")\n",
        "\n",
        "    print(\"\\r\")"
      ],
      "execution_count": null,
      "outputs": [
        {
          "output_type": "stream",
          "text": [
            "0 1 2 3 4 5 \r\n",
            "0 1 2 3 4 \r\n",
            "0 1 2 3 \r\n",
            "0 1 2 \r\n",
            "0 1 \r\n"
          ],
          "name": "stdout"
        }
      ]
    },
    {
      "cell_type": "code",
      "metadata": {
        "colab": {
          "base_uri": "https://localhost:8080/"
        },
        "id": "pw72uX05_k9l",
        "outputId": "46129fc9-f2d0-4b37-94bf-f970b8f693e4"
      },
      "source": [
        "#8: Pyramid of Natural Numbers Less Than 10\n",
        "currentNumber = 1\n",
        "\n",
        "stop = 2\n",
        "\n",
        "rows = 3 # Rows you want in your pattern\n",
        "\n",
        "for i in range(rows):\n",
        "\n",
        "    for column in range(1, stop):\n",
        "\n",
        "        print(currentNumber, end=\" \")\n",
        "\n",
        "        currentNumber += 1\n",
        "\n",
        "    print(\"\")\n",
        "\n",
        "    stop += 2"
      ],
      "execution_count": null,
      "outputs": [
        {
          "output_type": "stream",
          "text": [
            "1 \n",
            "2 3 4 \n",
            "5 6 7 8 9 \n"
          ],
          "name": "stdout"
        }
      ]
    },
    {
      "cell_type": "code",
      "metadata": {
        "colab": {
          "base_uri": "https://localhost:8080/"
        },
        "id": "5FB-O3bx_va2",
        "outputId": "6f198c57-03e8-4ae6-d48c-5b49a639e986"
      },
      "source": [
        "#9: Reverse Pattern of Digits from 10 \n",
        "start = 1\n",
        "\n",
        "stop = 2\n",
        "\n",
        "currentNumber = stop\n",
        "\n",
        "for row in range(2, 6):\n",
        "\n",
        "    for col in range(start, stop):\n",
        "\n",
        "        currentNumber -= 1\n",
        "\n",
        "        print(currentNumber, end=\"  \")\n",
        "\n",
        "    print(\"\")\n",
        "\n",
        "    start = stop\n",
        "\n",
        "    stop += row\n",
        "\n",
        "    currentNumber = stop"
      ],
      "execution_count": null,
      "outputs": [
        {
          "output_type": "stream",
          "text": [
            "1  \n",
            "3  2  \n",
            "6  5  4  \n",
            "10  9  8  7  \n"
          ],
          "name": "stdout"
        }
      ]
    },
    {
      "cell_type": "code",
      "metadata": {
        "colab": {
          "base_uri": "https://localhost:8080/"
        },
        "id": "wgmuE2fe_6j_",
        "outputId": "b3ba4e7a-d6a9-41ee-b91e-c03ca41f14a6"
      },
      "source": [
        "#10: Unique Pyramid Pattern of Digits\n",
        "rows = 6\n",
        "\n",
        "for i in range(1, rows + 1):\n",
        "\n",
        "    for j in range(1, i - 1):\n",
        "\n",
        "        print(j, end=\" \")\n",
        "\n",
        "    for j in range(i - 1, 0, -1):\n",
        "\n",
        "        print(j, end=\" \")\n",
        "\n",
        "    print()"
      ],
      "execution_count": null,
      "outputs": [
        {
          "output_type": "stream",
          "text": [
            "\n",
            "1 \n",
            "1 2 1 \n",
            "1 2 3 2 1 \n",
            "1 2 3 4 3 2 1 \n",
            "1 2 3 4 5 4 3 2 1 \n"
          ],
          "name": "stdout"
        }
      ]
    },
    {
      "cell_type": "code",
      "metadata": {
        "colab": {
          "base_uri": "https://localhost:8080/"
        },
        "id": "JiDPdK0eALoQ",
        "outputId": "7bcdf2a7-ca17-42fd-fd4f-d2d21cebec90"
      },
      "source": [
        "#11: Connected Inverted Pyramid Pattern of Numbers\n",
        "rows = 6\n",
        "\n",
        "for i in range(0, rows):\n",
        "\n",
        "    for j in range(rows - 1, i, -1):\n",
        "\n",
        "        print(j,\"\" , end=\"\")\n",
        "\n",
        "    for l in range(i):\n",
        "\n",
        "        print(\" \", end=\"\")\n",
        "\n",
        "    for k in range(i + 1, rows):\n",
        "\n",
        "        print(k,\"\" , end=\"\")\n",
        "\n",
        "    print(\"\\n\")"
      ],
      "execution_count": null,
      "outputs": [
        {
          "output_type": "stream",
          "text": [
            "5 4 3 2 1 1 2 3 4 5 \n",
            "\n",
            "5 4 3 2  2 3 4 5 \n",
            "\n",
            "5 4 3   3 4 5 \n",
            "\n",
            "5 4    4 5 \n",
            "\n",
            "5     5 \n",
            "\n",
            "     \n",
            "\n"
          ],
          "name": "stdout"
        }
      ]
    },
    {
      "cell_type": "code",
      "metadata": {
        "colab": {
          "base_uri": "https://localhost:8080/"
        },
        "id": "6vMVhhwuj5ZJ",
        "outputId": "0aa25f58-d7aa-43d9-da88-504dbb22f86a"
      },
      "source": [
        "#12: Even Number Pyramid Pattern\n",
        "rows = 5\n",
        "\n",
        "LastEvenNumber = 2 * rows\n",
        "\n",
        "evenNumber = LastEvenNumber\n",
        "\n",
        "for i in range(1, rows+1):\n",
        "\n",
        "    evenNumber = LastEvenNumber\n",
        "\n",
        "    for j in range(i):\n",
        "\n",
        "        print(evenNumber, end=\" \")\n",
        "\n",
        "        evenNumber -= 2\n",
        "\n",
        "    print(\"\\r\")"
      ],
      "execution_count": 4,
      "outputs": [
        {
          "output_type": "stream",
          "text": [
            "10 \r\n",
            "10 8 \r\n",
            "10 8 6 \r\n",
            "10 8 6 4 \r\n",
            "10 8 6 4 2 \r\n"
          ],
          "name": "stdout"
        }
      ]
    },
    {
      "cell_type": "code",
      "metadata": {
        "colab": {
          "base_uri": "https://localhost:8080/"
        },
        "id": "9AsLEW6QkcRr",
        "outputId": "a2b322f9-504e-426d-cb95-e811a4316bc8"
      },
      "source": [
        "#13: Pyramid of Horizontal Tables\n",
        "rows = 7\n",
        "\n",
        "for i in range(0, rows):\n",
        "\n",
        "    for j in range(0, i + 1):\n",
        "\n",
        "        print(i * j, end=\" \")\n",
        "\n",
        "    print()"
      ],
      "execution_count": 6,
      "outputs": [
        {
          "output_type": "stream",
          "text": [
            "0 \n",
            "0 1 \n",
            "0 2 4 \n",
            "0 3 6 9 \n",
            "0 4 8 12 16 \n",
            "0 5 10 15 20 25 \n",
            "0 6 12 18 24 30 36 \n"
          ],
          "name": "stdout"
        }
      ]
    },
    {
      "cell_type": "code",
      "metadata": {
        "colab": {
          "base_uri": "https://localhost:8080/"
        },
        "id": "MF2bPAj3kked",
        "outputId": "0a524b8c-38dc-43cf-f0d2-57d077950bbd"
      },
      "source": [
        "#14: Pyramid Pattern of Alternate Numbers\n",
        "rows = 5\n",
        "\n",
        "i = 1\n",
        "\n",
        "while i <= rows:\n",
        "\n",
        "    j = 1\n",
        "\n",
        "    while j <= i:\n",
        "\n",
        "        print((i * 2 - 1), end=\" \")\n",
        "\n",
        "        j = j + 1\n",
        "\n",
        "    i = i + 1\n",
        "\n",
        "    print()"
      ],
      "execution_count": 8,
      "outputs": [
        {
          "output_type": "stream",
          "text": [
            "1 \n",
            "3 3 \n",
            "5 5 5 \n",
            "7 7 7 7 \n",
            "9 9 9 9 9 \n"
          ],
          "name": "stdout"
        }
      ]
    },
    {
      "cell_type": "code",
      "metadata": {
        "colab": {
          "base_uri": "https://localhost:8080/"
        },
        "id": "9ChUIuovkvxI",
        "outputId": "804f9c71-00b1-46bd-dc43-005e95ced1bb"
      },
      "source": [
        "#15: Mirrored Pyramid (Right-angled Triangle) Pattern of Numbers\n",
        "\n",
        "rows = 6\n",
        "\n",
        "for row in range(1, rows):\n",
        "\n",
        "    num = 1\n",
        "\n",
        "    for j in range(rows, 0, -1):\n",
        "\n",
        "        if j > row:\n",
        "\n",
        "            print(\" \", end=\" \")\n",
        "\n",
        "        else:\n",
        "\n",
        "            print(num, end=\" \")\n",
        "\n",
        "            num += 1\n",
        "\n",
        "    print(\"\")"
      ],
      "execution_count": 9,
      "outputs": [
        {
          "output_type": "stream",
          "text": [
            "          1 \n",
            "        1 2 \n",
            "      1 2 3 \n",
            "    1 2 3 4 \n",
            "  1 2 3 4 5 \n"
          ],
          "name": "stdout"
        }
      ]
    },
    {
      "cell_type": "code",
      "metadata": {
        "colab": {
          "base_uri": "https://localhost:8080/"
        },
        "id": "5IdBHu7wk8JF",
        "outputId": "9946a47e-4df3-45b7-8745-b8e487d3663a"
      },
      "source": [
        "#16: Equilateral Triangle with Stars (Asterisk Symbol)\n",
        "print(\"Print equilateral triangle Pyramid using stars \")\n",
        "\n",
        "size = 7\n",
        "\n",
        "m = (2 * size) - 2\n",
        "\n",
        "for i in range(0, size):\n",
        "\n",
        "    for j in range(0, m):\n",
        "\n",
        "        print(end=\" \")\n",
        "\n",
        "    m = m - 1 # decrementing m after each loop\n",
        "\n",
        "    for j in range(0, i + 1):\n",
        "\n",
        "        # printing full Triangle pyramid using stars\n",
        "\n",
        "        print(\"* \", end=\" \")\n",
        "\n",
        "    print(\" \")"
      ],
      "execution_count": 13,
      "outputs": [
        {
          "output_type": "stream",
          "text": [
            "Print equilateral triangle Pyramid using stars \n",
            "            *   \n",
            "           *  *   \n",
            "          *  *  *   \n",
            "         *  *  *  *   \n",
            "        *  *  *  *  *   \n",
            "       *  *  *  *  *  *   \n",
            "      *  *  *  *  *  *  *   \n"
          ],
          "name": "stdout"
        }
      ]
    },
    {
      "cell_type": "code",
      "metadata": {
        "colab": {
          "base_uri": "https://localhost:8080/"
        },
        "id": "9F07uQExkMA1",
        "outputId": "dbfe1dc0-b1ae-4f7e-b580-83b87bbc9a77"
      },
      "source": [
        "#17: Downward Triangle Pattern of Stars\n",
        "rows = 5\n",
        "\n",
        "k = 2 * rows - 2\n",
        "\n",
        "for i in range(rows, -1, -1):\n",
        "\n",
        "    for j in range(k, 0, -1):\n",
        "\n",
        "        print(end=\" \")\n",
        "\n",
        "    k = k + 1\n",
        "\n",
        "    for j in range(0, i + 1):\n",
        "\n",
        "        print(\"*\", end=\" \")\n",
        "\n",
        "    print(\"\")"
      ],
      "execution_count": 15,
      "outputs": [
        {
          "output_type": "stream",
          "text": [
            "        * * * * * * \n",
            "         * * * * * \n",
            "          * * * * \n",
            "           * * * \n",
            "            * * \n",
            "             * \n"
          ],
          "name": "stdout"
        }
      ]
    },
    {
      "cell_type": "code",
      "metadata": {
        "colab": {
          "base_uri": "https://localhost:8080/"
        },
        "id": "V_rAOvQwloSc",
        "outputId": "42b107cd-24ed-480c-c7e1-6eeebc262723"
      },
      "source": [
        "#18: Pyramid Pattern of Stars\n",
        "rows = 5\n",
        "\n",
        "for i in range(0, rows):\n",
        "\n",
        "    for j in range(0, i + 1):\n",
        "\n",
        "        print(\"*\", end=\" \")\n",
        "    print(\"\\r\")"
      ],
      "execution_count": 18,
      "outputs": [
        {
          "output_type": "stream",
          "text": [
            "* \r\n",
            "* * \r\n",
            "* * * \r\n",
            "* * * * \r\n",
            "* * * * * \r\n"
          ],
          "name": "stdout"
        }
      ]
    },
    {
      "cell_type": "code",
      "metadata": {
        "colab": {
          "base_uri": "https://localhost:8080/"
        },
        "id": "QPU7ZZkOlkoM",
        "outputId": "d74413a0-4f09-4c85-cd89-18b8e64b10d3"
      },
      "source": [
        "#reverse a list of numbers\n",
        "a=[1,2,3,4,5]\n",
        "\n",
        "start =0\n",
        "end =-1\n",
        "\n",
        "for i in range(int(len(a)/2)):\n",
        "  a[start],a[end]=a[-i-1],a[i]\n",
        "  start +=1\n",
        "  end -=1\n",
        "\n",
        "print(a)"
      ],
      "execution_count": null,
      "outputs": [
        {
          "output_type": "stream",
          "text": [
            "[5, 4, 3, 2, 1]\n"
          ],
          "name": "stdout"
        }
      ]
    }
  ]
}