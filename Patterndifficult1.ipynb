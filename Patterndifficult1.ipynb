{
  "nbformat": 4,
  "nbformat_minor": 0,
  "metadata": {
    "colab": {
      "name": "Patterndifficult1.ipynb",
      "provenance": [],
      "authorship_tag": "ABX9TyMm2C67bpDMSdbt6FWarysn"
    },
    "kernelspec": {
      "name": "python3",
      "display_name": "Python 3"
    },
    "language_info": {
      "name": "python"
    }
  },
  "cells": [
    {
      "cell_type": "code",
      "metadata": {
        "id": "KymlNgcZQn-O"
      },
      "source": [
        "def p(n):\n",
        "  for i in range(n):\n",
        "    s=\"-\".join(chr(ord(\"a\")+n-j-1) for j in range(i+1))\n",
        "    print((s+s[::-1][1:]).center(n*4-3,\"-\"))\n",
        "  \n",
        "  for i in range(n-1):\n",
        "    s=\"-\".join(chr(ord(\"a\")+n-j-1) for j in range(n-i-1))\n",
        "    print((s+s[::-1][1:]).center(n*4-3,\"-\"))"
      ],
      "execution_count": 1,
      "outputs": []
    },
    {
      "cell_type": "code",
      "metadata": {
        "colab": {
          "base_uri": "https://localhost:8080/"
        },
        "id": "CfnIAPbe3vxA",
        "outputId": "c17567e3-8f6d-45a5-9303-ae12ccc04f43"
      },
      "source": [
        "p(6)"
      ],
      "execution_count": 2,
      "outputs": [
        {
          "output_type": "stream",
          "text": [
            "----------f----------\n",
            "--------f-e-f--------\n",
            "------f-e-d-e-f------\n",
            "----f-e-d-c-d-e-f----\n",
            "--f-e-d-c-b-c-d-e-f--\n",
            "f-e-d-c-b-a-b-c-d-e-f\n",
            "--f-e-d-c-b-c-d-e-f--\n",
            "----f-e-d-c-d-e-f----\n",
            "------f-e-d-e-f------\n",
            "--------f-e-f--------\n",
            "----------f----------\n"
          ],
          "name": "stdout"
        }
      ]
    }
  ]
}