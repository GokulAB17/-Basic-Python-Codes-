{
  "nbformat": 4,
  "nbformat_minor": 0,
  "metadata": {
    "colab": {
      "name": "SpySearch_Function_to_detect_spy_in_group.ipynb",
      "provenance": [],
      "authorship_tag": "ABX9TyN3uRzW1mc0vf8LsYsA43dN"
    },
    "kernelspec": {
      "name": "python3",
      "display_name": "Python 3"
    },
    "language_info": {
      "name": "python"
    }
  },
  "cells": [
    {
      "cell_type": "code",
      "metadata": {
        "colab": {
          "base_uri": "https://localhost:8080/",
          "height": 120
        },
        "id": "lCyKefszlsRw",
        "outputId": "4aa93348-f950-4a9b-b82c-fc6162e7c573"
      },
      "source": [
        "\"\"\"\n",
        "The problem is to catch the spy in the group of people \n",
        "define a function having 2 parameters n and has_info \n",
        "n : no of people in group start from 1 to n\n",
        "has_info : information details within the people \n",
        "for eg:\n",
        "  [[1,2]]: 2 person having info about 1\n",
        "  [[1,2],[2,3]] : 2 person having info about 1 and 3 person having info about 2\n",
        "\n",
        "Condition for having spy in group:\n",
        "for eg: if there is 3 people in group [1,2,3]\n",
        "has_info param has [[1,2]] value \n",
        "meaning 2 has info of 1 so 2 is spy\n",
        "\n",
        "if has_info param has [[1,2],[2,3]]\n",
        "meaning 2 has info of 1 and 3 has info of 2 so cycle is complete \n",
        "there is no spy as every one has info.\n",
        "\n",
        "in the function return 1 when spy is found and return 0 if not found\n",
        "check n >0 if not return -1\n",
        "check each members in has_info array are present in group if not \n",
        "return -1\n",
        "\"\"\"\n",
        "\n"
      ],
      "execution_count": 8,
      "outputs": [
        {
          "output_type": "execute_result",
          "data": {
            "application/vnd.google.colaboratory.intrinsic+json": {
              "type": "string"
            },
            "text/plain": [
              "'\\nThe problem is to catch the spy in the group of people \\ndefine a function having 2 parameters n and has_info \\nn : no of people in group start from 1 to n\\nhas_info : information details within the people \\nfor eg:\\n  [[1,2]]: 2 person having info about 1\\n  [[1,2],[2,3]] : 2 person having info about 1 and 3 person having info about 2\\n\\nCondition for having spy in group:\\nfor eg: if there is 3 people in group [1,2,3]\\nhas_info param has [[1,2]] value \\nmeaning 2 has info of 1 so 2 is spy\\n\\nif has_info param has [[1,2],[2,3]]\\nmeaning 2 has info of 1 and 3 has info of 2 so cycle is complete \\nthere is no spy as every one has info.\\n\\nin the function return 1 when spy is found and return 0 if not found\\ncheck n >0 if not return -1\\ncheck each members in has_info array are present in group if not \\nreturn -1\\n'"
            ]
          },
          "metadata": {
            "tags": []
          },
          "execution_count": 8
        }
      ]
    },
    {
      "cell_type": "code",
      "metadata": {
        "colab": {
          "base_uri": "https://localhost:8080/"
        },
        "id": "pB9OWBOcnFJH",
        "outputId": "2046ce65-b3a3-479e-dbc7-abc1023ac45c"
      },
      "source": [
        "## Solution:\n",
        "import numpy as np\n",
        "def spy(n,has_info):  ### n: no. of people has_info - people having info details in form of array\n",
        "  if (n<=0):  # check condition whether n > 0 if yes return -1\n",
        "    return -1   \n",
        "  a=[]\n",
        "  b=np.array(has_info) # flattening the has_info array\n",
        "  b=b.flatten()\n",
        "  b=list(set(b))\n",
        "  for i in range(1,n+1):   # making list a with n labels start from 1\n",
        "    a.append(i)\n",
        "  #print(a)\n",
        "  flag=1\n",
        "  if (len(a)<max(b)):   # check condition for has_info array values present in n group array\n",
        "    return -1\n",
        "  else:\n",
        "    if (sum(b)==sum(a)):   #spy detection if yes return 1 or return 0\n",
        "      return 0\n",
        "    else:\n",
        "      return 1\n",
        "\n",
        "\n",
        "spy(3,[[1,6]]) # member outside grp has info \n",
        "  "
      ],
      "execution_count": 9,
      "outputs": [
        {
          "output_type": "execute_result",
          "data": {
            "text/plain": [
              "-1"
            ]
          },
          "metadata": {
            "tags": []
          },
          "execution_count": 9
        }
      ]
    },
    {
      "cell_type": "code",
      "metadata": {
        "colab": {
          "base_uri": "https://localhost:8080/"
        },
        "id": "sjwLJ1-Pbkhj",
        "outputId": "583cc05b-08a3-43d5-88ee-70200ea8b29e"
      },
      "source": [
        "spy(4,[[1,2],[2,3]]) #spy present in group"
      ],
      "execution_count": 5,
      "outputs": [
        {
          "output_type": "execute_result",
          "data": {
            "text/plain": [
              "1"
            ]
          },
          "metadata": {
            "tags": []
          },
          "execution_count": 5
        }
      ]
    },
    {
      "cell_type": "code",
      "metadata": {
        "colab": {
          "base_uri": "https://localhost:8080/"
        },
        "id": "Q8nyLkXfbsVq",
        "outputId": "fe08eb78-d879-46df-afb7-ec96791f1966"
      },
      "source": [
        "spy(4,[[1,2],[2,3],[3,4]]) #spy not present "
      ],
      "execution_count": 6,
      "outputs": [
        {
          "output_type": "execute_result",
          "data": {
            "text/plain": [
              "0"
            ]
          },
          "metadata": {
            "tags": []
          },
          "execution_count": 6
        }
      ]
    },
    {
      "cell_type": "code",
      "metadata": {
        "colab": {
          "base_uri": "https://localhost:8080/"
        },
        "id": "v4KQBSVTb7Dj",
        "outputId": "f2074b98-d501-494c-b223-f78e58807c0e"
      },
      "source": [
        "spy(2,[[1,2],[2,3],[3,4],[4,5]]) # extra member in has info"
      ],
      "execution_count": 7,
      "outputs": [
        {
          "output_type": "execute_result",
          "data": {
            "text/plain": [
              "-1"
            ]
          },
          "metadata": {
            "tags": []
          },
          "execution_count": 7
        }
      ]
    }
  ]
}